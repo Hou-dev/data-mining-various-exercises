{
 "cells": [
  {
   "cell_type": "code",
   "execution_count": 1,
   "metadata": {},
   "outputs": [
    {
     "ename": "SyntaxError",
     "evalue": "EOF while scanning triple-quoted string literal (<ipython-input-1-fb5c9fbaca3e>, line 8)",
     "output_type": "error",
     "traceback": [
      "\u001b[1;36m  File \u001b[1;32m\"<ipython-input-1-fb5c9fbaca3e>\"\u001b[1;36m, line \u001b[1;32m8\u001b[0m\n\u001b[1;33m    return np.sum(first - second) / (len(X)) ''''''\u001b[0m\n\u001b[1;37m                                                   \n^\u001b[0m\n\u001b[1;31mSyntaxError\u001b[0m\u001b[1;31m:\u001b[0m EOF while scanning triple-quoted string literal\n"
     ]
    }
   ],
   "source": [
    "''''def sigmoid(z): return 1 / (1 + np.exp(-z)) \n",
    "def cost(theta, X, y): \n",
    "    theta = np.matrix(theta) \n",
    "    X = np.matrix(X) \n",
    "    y = np.matrix(y) \n",
    "    first = np.multiply(-y, np.log(sigmoid(X * theta.T))) \n",
    "    second = np.multiply((1 - y), np.log(1 - sigmoid(X * theta.T))) \n",
    "    return np.sum(first - second) / (len(X)) ''''''\n"
   ]
  },
  {
   "cell_type": "code",
   "execution_count": 2,
   "metadata": {},
   "outputs": [
    {
     "data": {
      "text/plain": [
       "\"from sklearn import tree \\nclf = tree.DecisionTreeClassifier() \\n# height hair voice\\nX = [[180, 15,0],[167, 42,1], [136, 35,1], [174, 15,0], [141, 28,1]] \\nY = ['man', 'woman', 'woman', 'man', 'woman'] \\nclf = clf.fit(X, Y) \\nprediction = clf.predict([[133, 37,1]]) \\nprint(prediction) \""
      ]
     },
     "execution_count": 2,
     "metadata": {},
     "output_type": "execute_result"
    }
   ],
   "source": [
    "'''from sklearn import tree \n",
    "clf = tree.DecisionTreeClassifier() \n",
    "# height hair voice\n",
    "X = [[180, 15,0],[167, 42,1], [136, 35,1], [174, 15,0], [141, 28,1]] \n",
    "Y = ['man', 'woman', 'woman', 'man', 'woman'] \n",
    "clf = clf.fit(X, Y) \n",
    "prediction = clf.predict([[133, 37,1]]) \n",
    "print(prediction) '''\n"
   ]
  },
  {
   "cell_type": "code",
   "execution_count": 3,
   "metadata": {},
   "outputs": [
    {
     "ename": "ImportError",
     "evalue": "cannot import name 'NaiveByesClassifier' from 'sklearn' (C:\\Users\\Javed\\AppData\\Local\\Continuum\\anaconda3\\lib\\site-packages\\sklearn\\__init__.py)",
     "output_type": "error",
     "traceback": [
      "\u001b[1;31m---------------------------------------------------------------------------\u001b[0m",
      "\u001b[1;31mImportError\u001b[0m                               Traceback (most recent call last)",
      "\u001b[1;32m<ipython-input-3-d780d5b5bdd9>\u001b[0m in \u001b[0;36m<module>\u001b[1;34m\u001b[0m\n\u001b[0;32m      5\u001b[0m \u001b[1;32mfrom\u001b[0m \u001b[0msklearn\u001b[0m\u001b[1;33m.\u001b[0m\u001b[0mmodel_selection\u001b[0m \u001b[1;32mimport\u001b[0m \u001b[0mtrain_test_split\u001b[0m\u001b[1;33m\u001b[0m\u001b[1;33m\u001b[0m\u001b[0m\n\u001b[0;32m      6\u001b[0m \u001b[1;32mfrom\u001b[0m \u001b[0msklearn\u001b[0m\u001b[1;33m.\u001b[0m\u001b[0mtree\u001b[0m \u001b[1;32mimport\u001b[0m \u001b[0mDecisionTreeClassifier\u001b[0m\u001b[1;33m\u001b[0m\u001b[1;33m\u001b[0m\u001b[0m\n\u001b[1;32m----> 7\u001b[1;33m \u001b[1;32mfrom\u001b[0m \u001b[0msklearn\u001b[0m \u001b[1;32mimport\u001b[0m \u001b[0mNaiveByesClassifier\u001b[0m\u001b[1;33m\u001b[0m\u001b[1;33m\u001b[0m\u001b[0m\n\u001b[0m\u001b[0;32m      8\u001b[0m \u001b[1;32mfrom\u001b[0m \u001b[0msklearn\u001b[0m\u001b[1;33m.\u001b[0m\u001b[0mmetrics\u001b[0m \u001b[1;32mimport\u001b[0m \u001b[0maccuracy_score\u001b[0m\u001b[1;33m\u001b[0m\u001b[1;33m\u001b[0m\u001b[0m\n\u001b[0;32m      9\u001b[0m \u001b[1;32mfrom\u001b[0m \u001b[0msklearn\u001b[0m\u001b[1;33m.\u001b[0m\u001b[0mmetrics\u001b[0m \u001b[1;32mimport\u001b[0m \u001b[0mclassification_report\u001b[0m\u001b[1;33m\u001b[0m\u001b[1;33m\u001b[0m\u001b[0m\n",
      "\u001b[1;31mImportError\u001b[0m: cannot import name 'NaiveByesClassifier' from 'sklearn' (C:\\Users\\Javed\\AppData\\Local\\Continuum\\anaconda3\\lib\\site-packages\\sklearn\\__init__.py)"
     ]
    }
   ],
   "source": [
    "# Importing the required packages \n",
    "import numpy as np \n",
    "import pandas as pd \n",
    "from sklearn.metrics import confusion_matrix \n",
    "from sklearn.model_selection import train_test_split \n",
    "from sklearn.tree import DecisionTreeClassifier \n",
    "from sklearn import NaiveByesClassifier\n",
    "from sklearn.metrics import accuracy_score \n",
    "from sklearn.metrics import classification_report \n",
    "# Function importing Dotoset\n",
    "def importdata(): \n",
    "    balance_data = pd.read_csv( 'https://archive.ics.uci.edu/ml/machine-learning-'+ \n",
    "                                             'databases/balance-scale/balance-scale.data', \n",
    "                                             sep= ',', header = None) \n",
    "    # Printing the dataswet shape \n",
    "    print (\"Dataset Lenght: \", len(balance_data)) \n",
    "    print (\"Dataset Shape: \", balance_data.shape) \n",
    "    # Printing the dataset obseravtions \n",
    "    print (\"Dataset: \",balance_data.head()) \n",
    "    return balance_data "
   ]
  },
  {
   "cell_type": "code",
   "execution_count": null,
   "metadata": {},
   "outputs": [],
   "source": [
    "# Function to spLit the dataset \n",
    "def splitdataset(balance_data): \n",
    "    # Seperating the target variabLe \n",
    "    X = balance_data.values[:, 1:5]\n",
    "    Y = balance_data.values[:, 0] \n",
    "    # SpLiting the dataset into train and test \n",
    "    X_train, X_test, y_train, y_test = train_test_split( X, Y, test_size = 0.3, random_state = 100) \n",
    "    return X, Y, X_train, X_test, y_train, y_test "
   ]
  },
  {
   "cell_type": "code",
   "execution_count": null,
   "metadata": {},
   "outputs": [],
   "source": [
    "# Function to perform training with giniIndex.\n",
    "def train_using_gini(X_train, X_test, y_train): \n",
    "    # Creating the cLassifier object \n",
    "    clf_gini = DecisionTreeClassifier(criterion = \"gini\", random_state = 1001, max_depth=3, min_samples_leaf=5) \n",
    "    # Performing training \n",
    "    clf_gini.fit(X_train, y_train) \n",
    "    return clf_gini "
   ]
  },
  {
   "cell_type": "code",
   "execution_count": null,
   "metadata": {},
   "outputs": [],
   "source": [
    "# Function to make predictions \n",
    "def prediction(X_test, clf_object): \n",
    "    # Predicton on test with ginilndex \n",
    "    y_pred = clf_object.predict(X_test)\n",
    "    print(\"Predicted values:\") \n",
    "    print(y_pred)\n",
    "    return y_pred "
   ]
  },
  {
   "cell_type": "code",
   "execution_count": null,
   "metadata": {},
   "outputs": [],
   "source": [
    "# Function to caLcuLate accuracy \n",
    "def cal_accuracy(y_test, y_pred): \n",
    "    print(\"Confusion Matrix: \", confusion_matrix(y_test, y_pred)) \n",
    "    print (\"Accuracy : \", accuracy_score(y_test, y_pred)*100) \n",
    "    print(\"Report : \", classification_report(y_test, y_pred)) \n"
   ]
  },
  {
   "cell_type": "code",
   "execution_count": null,
   "metadata": {},
   "outputs": [],
   "source": [
    "# Function to perform training with entropy. \n",
    "def train_using_entropy(X_train, X_test, y_train): \n",
    "    # Decision tree with entropy \n",
    "    clf_entropy = DecisionTreeClassifier(criterion = \"entropy\", random_state = 100, max_depth = 3, min_samples_leaf = 5) \n",
    "    # Performing training \n",
    "    clf_entropy.fit(X_train, y_train) \n",
    "    return clf_entropy \n"
   ]
  },
  {
   "cell_type": "code",
   "execution_count": null,
   "metadata": {},
   "outputs": [],
   "source": [
    "# Driver code \n",
    "def main(): \n",
    "    # BuiLding Phase \n",
    "    data = importdata() \n",
    "    X, Y, X_train, X_test, y_train, y_test = splitdataset(data) \n",
    "    clf_gini = train_using_gini(X_train, X_test, y_train) \n",
    "    clf_entropy = train_using_entropy(X_train, X_test, y_train) \n",
    "    # OperationaL Phase \n",
    "    print(\"Results Using Gini Index:\") \n",
    "    # Prediction using gini \n",
    "    y_pred_gini = prediction(X_test, clf_gini) \n",
    "    cal_accuracy(y_test, y_pred_gini) \n",
    "    print(\"Results Using Entropy:\") \n",
    "    # Prediction using entropy \n",
    "    y_pred_entropy = prediction(X_test, clf_entropy) \n",
    "    cal_accuracy(y_test, y_pred_entropy) \n",
    "# calling main function\n",
    "if __name__==\"main\":\n",
    "    main()"
   ]
  },
  {
   "cell_type": "code",
   "execution_count": null,
   "metadata": {
    "scrolled": true
   },
   "outputs": [],
   "source": [
    "main()"
   ]
  },
  {
   "cell_type": "code",
   "execution_count": null,
   "metadata": {},
   "outputs": [],
   "source": []
  }
 ],
 "metadata": {
  "kernelspec": {
   "display_name": "Python 3",
   "language": "python",
   "name": "python3"
  },
  "language_info": {
   "codemirror_mode": {
    "name": "ipython",
    "version": 3
   },
   "file_extension": ".py",
   "mimetype": "text/x-python",
   "name": "python",
   "nbconvert_exporter": "python",
   "pygments_lexer": "ipython3",
   "version": "3.7.3"
  }
 },
 "nbformat": 4,
 "nbformat_minor": 2
}
